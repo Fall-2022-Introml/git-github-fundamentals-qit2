{
 "cells": [
  {
   "cell_type": "markdown",
   "id": "721a7259",
   "metadata": {},
   "source": [
    "# MGMT-4190 Intro to Machine Learning Apps"
   ]
  },
  {
   "cell_type": "markdown",
   "id": "a1f74c33",
   "metadata": {},
   "source": [
    "## Assignment 0 Set up Jupyter"
   ]
  },
  {
   "cell_type": "markdown",
   "id": "0e8219b8",
   "metadata": {},
   "source": [
    "#### Requirment"
   ]
  },
  {
   "cell_type": "markdown",
   "id": "ff039e1c",
   "metadata": {},
   "source": [
    "- Create a new Jupyter notebook in Anaconda (ideally) but if you get stuck you can use Google Colab. \n",
    "- Create a few cells demonstrating you understand how markdown works and how to create code cells. \n",
    "- Do a few simple operations like assigning and printing a variable.\n",
    "- Commit the file to your respository using Github Desktop."
   ]
  },
  {
   "cell_type": "markdown",
   "id": "ff84d509",
   "metadata": {},
   "source": [
    "#### ANSWER:\n",
    "1. Print the string out"
   ]
  },
  {
   "cell_type": "code",
   "execution_count": 9,
   "id": "a30f0923",
   "metadata": {},
   "outputs": [
    {
     "name": "stdout",
     "output_type": "stream",
     "text": [
      "Hello World!\n"
     ]
    }
   ],
   "source": [
    "print(\"Hello World!\")"
   ]
  },
  {
   "cell_type": "markdown",
   "id": "ec4440ab",
   "metadata": {},
   "source": [
    "2. Assign the value to a  and print it out"
   ]
  },
  {
   "cell_type": "code",
   "execution_count": 12,
   "id": "a1280048",
   "metadata": {},
   "outputs": [
    {
     "name": "stdout",
     "output_type": "stream",
     "text": [
      "Today temperature is 89 Fahrenheit!\n"
     ]
    }
   ],
   "source": [
    "temperature = 89\n",
    "print('Today temperature is ' + str(temperature) + \" Fahrenheit!\")"
   ]
  },
  {
   "cell_type": "markdown",
   "id": "177d3cd3",
   "metadata": {},
   "source": [
    "3. Simple Function "
   ]
  },
  {
   "cell_type": "code",
   "execution_count": 20,
   "id": "eccb051b",
   "metadata": {},
   "outputs": [
    {
     "name": "stdout",
     "output_type": "stream",
     "text": [
      "The result of 15 + 8 is 23\n"
     ]
    }
   ],
   "source": [
    "def add_op(a,b):\n",
    "    result = a+b\n",
    "    return print('The result of ' + str(a)+ ' + ' + str(b)+ ' is '+ str(result))\n",
    "\n",
    "a = 15\n",
    "b = 8\n",
    "add_op(a,b)"
   ]
  },
  {
   "cell_type": "code",
   "execution_count": null,
   "id": "e6bdc94e",
   "metadata": {},
   "outputs": [],
   "source": []
  }
 ],
 "metadata": {
  "kernelspec": {
   "display_name": "Python 3 (ipykernel)",
   "language": "python",
   "name": "python3"
  },
  "language_info": {
   "codemirror_mode": {
    "name": "ipython",
    "version": 3
   },
   "file_extension": ".py",
   "mimetype": "text/x-python",
   "name": "python",
   "nbconvert_exporter": "python",
   "pygments_lexer": "ipython3",
   "version": "3.9.12"
  }
 },
 "nbformat": 4,
 "nbformat_minor": 5
}
